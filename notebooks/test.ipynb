{
 "cells": [
  {
   "cell_type": "code",
   "execution_count": 1,
   "id": "color-truck",
   "metadata": {},
   "outputs": [],
   "source": [
    "%load_ext autoreload\n",
    "%autoreload 2"
   ]
  },
  {
   "cell_type": "code",
   "execution_count": 90,
   "id": "vocal-pillow",
   "metadata": {},
   "outputs": [],
   "source": [
    "import pandas as pd\n",
    "import numpy as np\n",
    "import sys\n",
    "import os\n",
    "from sklearn.model_selection import train_test_split\n"
   ]
  },
  {
   "cell_type": "code",
   "execution_count": 20,
   "id": "designing-shakespeare",
   "metadata": {},
   "outputs": [
    {
     "data": {
      "text/plain": [
       "'test.ipynb'"
      ]
     },
     "execution_count": 20,
     "metadata": {},
     "output_type": "execute_result"
    }
   ],
   "source": [
    "path = os.path.basename('test.ipynb')\n",
    "path"
   ]
  },
  {
   "cell_type": "code",
   "execution_count": 24,
   "id": "qualified-privilege",
   "metadata": {},
   "outputs": [
    {
     "data": {
      "text/plain": [
       "'/Users/laureleter/code/Laurel16/OpenFoodFactsCategorizer'"
      ]
     },
     "execution_count": 24,
     "metadata": {},
     "output_type": "execute_result"
    }
   ],
   "source": [
    "os.path.dirname(os.path.dirname(os.path.abspath('__file__')))"
   ]
  },
  {
   "cell_type": "code",
   "execution_count": 47,
   "id": "proud-vienna",
   "metadata": {},
   "outputs": [
    {
     "name": "stdout",
     "output_type": "stream",
     "text": [
      "Collecting nltk\n",
      "  Using cached nltk-3.5.zip (1.4 MB)\n",
      "Requirement already satisfied: click in /Users/laureleter/.pyenv/versions/3.8.6/envs/OpenFoodFacts/lib/python3.8/site-packages (from nltk) (7.1.2)\n",
      "Requirement already satisfied: joblib in /Users/laureleter/.pyenv/versions/3.8.6/envs/OpenFoodFacts/lib/python3.8/site-packages (from nltk) (1.0.1)\n",
      "Requirement already satisfied: regex in /Users/laureleter/.pyenv/versions/3.8.6/envs/OpenFoodFacts/lib/python3.8/site-packages (from nltk) (2020.11.13)\n",
      "Requirement already satisfied: tqdm in /Users/laureleter/.pyenv/versions/3.8.6/envs/OpenFoodFacts/lib/python3.8/site-packages (from nltk) (4.57.0)\n",
      "Building wheels for collected packages: nltk\n",
      "  Building wheel for nltk (setup.py) ... \u001b[?25ldone\n",
      "\u001b[?25h  Created wheel for nltk: filename=nltk-3.5-py3-none-any.whl size=1434677 sha256=ab1ff296c8c436d4b0a925d2ee8a21c7cac1776a455826b937118a2155cd8d48\n",
      "  Stored in directory: /Users/laureleter/Library/Caches/pip/wheels/ff/d5/7b/f1fb4e1e1603b2f01c2424dd60fbcc50c12ef918bafc44b155\n",
      "Successfully built nltk\n",
      "Installing collected packages: nltk\n",
      "Successfully installed nltk-3.5\n"
     ]
    }
   ],
   "source": [
    "!pip install nltk"
   ]
  },
  {
   "cell_type": "code",
   "execution_count": 49,
   "id": "occupational-uncle",
   "metadata": {},
   "outputs": [
    {
     "name": "stdout",
     "output_type": "stream",
     "text": [
      "Requirement already satisfied: pyspellchecker in /Users/laureleter/.pyenv/versions/3.8.6/envs/OpenFoodFacts/lib/python3.8/site-packages (0.6.1)\r\n"
     ]
    }
   ],
   "source": [
    "!pip install pyspellchecker"
   ]
  },
  {
   "cell_type": "code",
   "execution_count": 85,
   "id": "alternative-thailand",
   "metadata": {
    "scrolled": false
   },
   "outputs": [],
   "source": [
    "nb_dir = os.path.dirname(os.path.dirname(os.path.abspath('__file__')))\n",
    "#if module_path not in sys.path:\n",
    "    #sys.path.append(module_path+\"\\\\OpenFoodFactsCategorizer\")\n",
    "if nb_dir not in sys.path:\n",
    "    sys.path.append(nb_dir)\n",
    "#from employee import motivation_to_work\n",
    "from OpenFoodFactsCategorizer import data, encoders, trainer\n",
    "\n",
    "#module_path"
   ]
  },
  {
   "cell_type": "code",
   "execution_count": 127,
   "id": "comprehensive-signature",
   "metadata": {},
   "outputs": [
    {
     "data": {
      "text/plain": [
       "<function sklearn.model_selection._split.train_test_split(*arrays, test_size=None, train_size=None, random_state=None, shuffle=True, stratify=None)>"
      ]
     },
     "execution_count": 127,
     "metadata": {},
     "output_type": "execute_result"
    }
   ],
   "source": [
    "data.get_data_from_text()\n",
    "train_test_split"
   ]
  },
  {
   "cell_type": "code",
   "execution_count": 75,
   "id": "encouraging-cursor",
   "metadata": {
    "scrolled": false
   },
   "outputs": [],
   "source": [
    "\n",
    "data = data.get_data('../raw_data/ocr_labeled_1K.csv')\n",
    "#df.head()"
   ]
  },
  {
   "cell_type": "code",
   "execution_count": 77,
   "id": "incoming-safety",
   "metadata": {},
   "outputs": [
    {
     "data": {
      "text/plain": [
       "'our sucre pour barbe a papa parfum framboise msation deshydratee aromatisee et coloree ants sucre  dextrose ardme gluten coloant  antagglomerant dioxy e de silicium inanel traces de ouf sofe aat fruits a coque g pour  g de produit deshydrate   o e kcal naiut t etique kj bupds s satures  e suktes  asg o g ref pu lngrang ne s '"
      ]
     },
     "execution_count": 77,
     "metadata": {},
     "output_type": "execute_result"
    }
   ],
   "source": [
    "encoders.CustomPreprocessor.remove_accents(data['clean_text'][10])"
   ]
  },
  {
   "cell_type": "code",
   "execution_count": 78,
   "id": "damaged-gnome",
   "metadata": {},
   "outputs": [
    {
     "data": {
      "text/plain": [
       "'our sucre pour barbe a papa parfum framboise msation déshydratee aromatisée et colorée ants sucre  dextrose arme gluten collant  antagglomerant dioxy e de silicium inanel traces de ouf soie ait fruits a coque g pour  g de produit déshydrate   o e cal nait t tique km bupds s sutures  e suites  as o g ref pu lngrang ne s '"
      ]
     },
     "execution_count": 78,
     "metadata": {},
     "output_type": "execute_result"
    }
   ],
   "source": [
    "encoders.CustomPreprocessor.corrected(data['clean_text'][10])"
   ]
  },
  {
   "cell_type": "code",
   "execution_count": 79,
   "id": "aggressive-ambassador",
   "metadata": {},
   "outputs": [
    {
     "data": {
      "text/plain": [
       "'our sucre pour barbe a papa parfum framboise msation deshydratee aromatisee et coloree ants sucre dextrose ardme gluten coloant antagglomerant dioxy e de silicium inanel traces de ouf sofe aat fruits a coque g pour g de produit deshydrate o e kcal naiut t etique kj bupds s satures e suktes asg o g ref pu lngrang ne s '"
      ]
     },
     "execution_count": 79,
     "metadata": {},
     "output_type": "execute_result"
    }
   ],
   "source": [
    "encoders.CustomPreprocessor.remove_punc(data['clean_text'][10])"
   ]
  },
  {
   "cell_type": "code",
   "execution_count": 86,
   "id": "posted-thunder",
   "metadata": {},
   "outputs": [
    {
     "data": {
      "text/plain": [
       "<function OpenFoodFactsCategorizer.trainer.Trainer.create_pipeline(self)>"
      ]
     },
     "execution_count": 86,
     "metadata": {},
     "output_type": "execute_result"
    }
   ],
   "source": [
    "trainer.Trainer.create_pipeline"
   ]
  },
  {
   "cell_type": "code",
   "execution_count": 112,
   "id": "artificial-recipe",
   "metadata": {
    "scrolled": true
   },
   "outputs": [],
   "source": []
  },
  {
   "cell_type": "code",
   "execution_count": 122,
   "id": "split-performance",
   "metadata": {
    "scrolled": true
   },
   "outputs": [],
   "source": [
    "model = trainer.Trainer()"
   ]
  },
  {
   "cell_type": "code",
   "execution_count": 121,
   "id": "revolutionary-chapel",
   "metadata": {},
   "outputs": [
    {
     "data": {
      "text/plain": [
       "<OpenFoodFactsCategorizer.trainer.Trainer at 0x12413c040>"
      ]
     },
     "execution_count": 121,
     "metadata": {},
     "output_type": "execute_result"
    }
   ],
   "source": []
  },
  {
   "cell_type": "code",
   "execution_count": null,
   "id": "inside-ownership",
   "metadata": {},
   "outputs": [],
   "source": []
  }
 ],
 "metadata": {
  "kernelspec": {
   "display_name": "Python 3",
   "language": "python",
   "name": "python3"
  },
  "language_info": {
   "codemirror_mode": {
    "name": "ipython",
    "version": 3
   },
   "file_extension": ".py",
   "mimetype": "text/x-python",
   "name": "python",
   "nbconvert_exporter": "python",
   "pygments_lexer": "ipython3",
   "version": "3.8.6"
  },
  "latex_envs": {
   "LaTeX_envs_menu_present": true,
   "autoclose": false,
   "autocomplete": true,
   "bibliofile": "biblio.bib",
   "cite_by": "apalike",
   "current_citInitial": 1,
   "eqLabelWithNumbers": true,
   "eqNumInitial": 1,
   "hotkeys": {
    "equation": "Ctrl-E",
    "itemize": "Ctrl-I"
   },
   "labels_anchors": false,
   "latex_user_defs": false,
   "report_style_numbering": false,
   "user_envs_cfg": false
  },
  "toc": {
   "base_numbering": 1,
   "nav_menu": {},
   "number_sections": true,
   "sideBar": true,
   "skip_h1_title": false,
   "title_cell": "Table of Contents",
   "title_sidebar": "Contents",
   "toc_cell": false,
   "toc_position": {},
   "toc_section_display": true,
   "toc_window_display": false
  },
  "varInspector": {
   "cols": {
    "lenName": 16,
    "lenType": 16,
    "lenVar": 40
   },
   "kernels_config": {
    "python": {
     "delete_cmd_postfix": "",
     "delete_cmd_prefix": "del ",
     "library": "var_list.py",
     "varRefreshCmd": "print(var_dic_list())"
    },
    "r": {
     "delete_cmd_postfix": ") ",
     "delete_cmd_prefix": "rm(",
     "library": "var_list.r",
     "varRefreshCmd": "cat(var_dic_list()) "
    }
   },
   "types_to_exclude": [
    "module",
    "function",
    "builtin_function_or_method",
    "instance",
    "_Feature"
   ],
   "window_display": false
  }
 },
 "nbformat": 4,
 "nbformat_minor": 5
}
