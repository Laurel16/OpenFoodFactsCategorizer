{
 "cells": [
  {
   "cell_type": "code",
   "execution_count": 1,
   "id": "color-truck",
   "metadata": {
    "ExecuteTime": {
     "end_time": "2021-03-12T13:20:34.512678Z",
     "start_time": "2021-03-12T13:20:34.493423Z"
    }
   },
   "outputs": [],
   "source": [
    "%load_ext autoreload\n",
    "%autoreload 2"
   ]
  },
  {
   "cell_type": "code",
   "execution_count": 5,
   "id": "vocal-pillow",
   "metadata": {
    "ExecuteTime": {
     "end_time": "2021-03-12T13:21:44.802572Z",
     "start_time": "2021-03-12T13:21:44.781724Z"
    }
   },
   "outputs": [],
   "source": [
    "import pandas as pd\n",
    "import numpy as np\n",
    "import sys\n",
    "import os\n",
    "from sklearn.model_selection import train_test_split"
   ]
  },
  {
   "cell_type": "code",
   "execution_count": 8,
   "id": "designing-shakespeare",
   "metadata": {
    "ExecuteTime": {
     "end_time": "2021-03-12T13:22:39.857194Z",
     "start_time": "2021-03-12T13:22:39.826823Z"
    }
   },
   "outputs": [
    {
     "data": {
      "text/plain": [
       "'test.ipynb'"
      ]
     },
     "execution_count": 8,
     "metadata": {},
     "output_type": "execute_result"
    }
   ],
   "source": [
    "path = os.path.basename('test.ipynb')\n",
    "path"
   ]
  },
  {
   "cell_type": "code",
   "execution_count": 9,
   "id": "qualified-privilege",
   "metadata": {
    "ExecuteTime": {
     "end_time": "2021-03-12T13:22:41.708388Z",
     "start_time": "2021-03-12T13:22:41.684027Z"
    }
   },
   "outputs": [
    {
     "data": {
      "text/plain": [
       "'/Users/capucinedehaut/code/ramsyy0/OpenFoodFactsCategorizer'"
      ]
     },
     "execution_count": 9,
     "metadata": {},
     "output_type": "execute_result"
    }
   ],
   "source": [
    "os.path.dirname(os.path.dirname(os.path.abspath('__file__')))"
   ]
  },
  {
   "cell_type": "code",
   "execution_count": 47,
   "id": "proud-vienna",
   "metadata": {},
   "outputs": [
    {
     "name": "stdout",
     "output_type": "stream",
     "text": [
      "Collecting nltk\n",
      "  Using cached nltk-3.5.zip (1.4 MB)\n",
      "Requirement already satisfied: click in /Users/laureleter/.pyenv/versions/3.8.6/envs/OpenFoodFacts/lib/python3.8/site-packages (from nltk) (7.1.2)\n",
      "Requirement already satisfied: joblib in /Users/laureleter/.pyenv/versions/3.8.6/envs/OpenFoodFacts/lib/python3.8/site-packages (from nltk) (1.0.1)\n",
      "Requirement already satisfied: regex in /Users/laureleter/.pyenv/versions/3.8.6/envs/OpenFoodFacts/lib/python3.8/site-packages (from nltk) (2020.11.13)\n",
      "Requirement already satisfied: tqdm in /Users/laureleter/.pyenv/versions/3.8.6/envs/OpenFoodFacts/lib/python3.8/site-packages (from nltk) (4.57.0)\n",
      "Building wheels for collected packages: nltk\n",
      "  Building wheel for nltk (setup.py) ... \u001b[?25ldone\n",
      "\u001b[?25h  Created wheel for nltk: filename=nltk-3.5-py3-none-any.whl size=1434677 sha256=ab1ff296c8c436d4b0a925d2ee8a21c7cac1776a455826b937118a2155cd8d48\n",
      "  Stored in directory: /Users/laureleter/Library/Caches/pip/wheels/ff/d5/7b/f1fb4e1e1603b2f01c2424dd60fbcc50c12ef918bafc44b155\n",
      "Successfully built nltk\n",
      "Installing collected packages: nltk\n",
      "Successfully installed nltk-3.5\n"
     ]
    }
   ],
   "source": [
    "!pip install nltk"
   ]
  },
  {
   "cell_type": "code",
   "execution_count": 7,
   "id": "occupational-uncle",
   "metadata": {
    "ExecuteTime": {
     "end_time": "2021-03-12T13:22:35.069918Z",
     "start_time": "2021-03-12T13:22:19.687834Z"
    }
   },
   "outputs": [
    {
     "name": "stdout",
     "output_type": "stream",
     "text": [
      "Collecting pyspellchecker\n",
      "  Downloading pyspellchecker-0.6.1-py3-none-any.whl (2.7 MB)\n",
      "\u001b[K     |████████████████████████████████| 2.7 MB 622 kB/s eta 0:00:01\n",
      "\u001b[?25hInstalling collected packages: pyspellchecker\n",
      "Successfully installed pyspellchecker-0.6.1\n"
     ]
    }
   ],
   "source": [
    "!pip install pyspellchecker"
   ]
  },
  {
   "cell_type": "code",
   "execution_count": 18,
   "id": "alternative-thailand",
   "metadata": {
    "ExecuteTime": {
     "end_time": "2021-03-12T13:32:16.914793Z",
     "start_time": "2021-03-12T13:32:16.879052Z"
    },
    "scrolled": false
   },
   "outputs": [],
   "source": [
    "nb_dir = os.path.dirname(os.path.dirname(os.path.abspath('__file__')))\n",
    "#if module_path not in sys.path:\n",
    "    #sys.path.append(module_path+\"\\\\OpenFoodFactsCategorizer\")\n",
    "if nb_dir not in sys.path:\n",
    "    sys.path.append(nb_dir)\n",
    "#from employee import motivation_to_work\n",
    "from OpenFoodFactsCategorizer import data, encoders, trainer\n",
    "\n",
    "#module_path"
   ]
  },
  {
   "cell_type": "code",
   "execution_count": 19,
   "id": "comprehensive-signature",
   "metadata": {
    "ExecuteTime": {
     "end_time": "2021-03-12T13:32:17.804018Z",
     "start_time": "2021-03-12T13:32:17.744053Z"
    }
   },
   "outputs": [
    {
     "data": {
      "text/html": [
       "<div>\n",
       "<style scoped>\n",
       "    .dataframe tbody tr th:only-of-type {\n",
       "        vertical-align: middle;\n",
       "    }\n",
       "\n",
       "    .dataframe tbody tr th {\n",
       "        vertical-align: top;\n",
       "    }\n",
       "\n",
       "    .dataframe thead th {\n",
       "        text-align: right;\n",
       "    }\n",
       "</style>\n",
       "<table border=\"1\" class=\"dataframe\">\n",
       "  <thead>\n",
       "    <tr style=\"text-align: right;\">\n",
       "      <th></th>\n",
       "      <th>barcode</th>\n",
       "      <th>clean_text</th>\n",
       "      <th>pnns_groups_1</th>\n",
       "      <th>pnns_groups_2</th>\n",
       "    </tr>\n",
       "  </thead>\n",
       "  <tbody>\n",
       "    <tr>\n",
       "      <th>0</th>\n",
       "      <td>3199660476748</td>\n",
       "      <td>ne eleve abattu en bretagne les eleveurs de br...</td>\n",
       "      <td>Fish Meat Eggs</td>\n",
       "      <td>Meat</td>\n",
       "    </tr>\n",
       "    <tr>\n",
       "      <th>1</th>\n",
       "      <td>3199660219192</td>\n",
       "      <td>ker chant  local decoupes de poulet conditionn...</td>\n",
       "      <td>Fish Meat Eggs</td>\n",
       "      <td>Meat</td>\n",
       "    </tr>\n",
       "    <tr>\n",
       "      <th>2</th>\n",
       "      <td>3199660219192</td>\n",
       "      <td>cuisdej plt sat kerchant fx  origine france vo...</td>\n",
       "      <td>Fish Meat Eggs</td>\n",
       "      <td>Meat</td>\n",
       "    </tr>\n",
       "    <tr>\n",
       "      <th>3</th>\n",
       "      <td>3199660747848</td>\n",
       "      <td>ker chant  logal decoupes de poulet cooduogne ...</td>\n",
       "      <td>Fish Meat Eggs</td>\n",
       "      <td>Meat</td>\n",
       "    </tr>\n",
       "    <tr>\n",
       "      <th>4</th>\n",
       "      <td>3196203800091</td>\n",
       "      <td>preparation deshydratee aromatisee et coloree ...</td>\n",
       "      <td>Sugary snacks</td>\n",
       "      <td>Sweets</td>\n",
       "    </tr>\n",
       "    <tr>\n",
       "      <th>...</th>\n",
       "      <td>...</td>\n",
       "      <td>...</td>\n",
       "      <td>...</td>\n",
       "      <td>...</td>\n",
       "    </tr>\n",
       "    <tr>\n",
       "      <th>995</th>\n",
       "      <td>3068320115160</td>\n",
       "      <td>mineralisation ngat en mgl calcium  magnesium ...</td>\n",
       "      <td>Beverages</td>\n",
       "      <td>Waters and flavored waters</td>\n",
       "    </tr>\n",
       "    <tr>\n",
       "      <th>996</th>\n",
       "      <td>3068320115160</td>\n",
       "      <td>pauvre en sodum a vetat mineralisation aracter...</td>\n",
       "      <td>Beverages</td>\n",
       "      <td>Waters and flavored waters</td>\n",
       "    </tr>\n",
       "    <tr>\n",
       "      <th>997</th>\n",
       "      <td>3068320115160</td>\n",
       "      <td>pau mineralisation aracteristique en  n ml cal...</td>\n",
       "      <td>Beverages</td>\n",
       "      <td>Waters and flavored waters</td>\n",
       "    </tr>\n",
       "    <tr>\n",
       "      <th>998</th>\n",
       "      <td>3068320115160</td>\n",
       "      <td>finement ent petil la a veta eine g ave aturel...</td>\n",
       "      <td>Beverages</td>\n",
       "      <td>Waters and flavored waters</td>\n",
       "    </tr>\n",
       "    <tr>\n",
       "      <th>999</th>\n",
       "      <td>3068320115160</td>\n",
       "      <td>pauvre sodium lo gl finement petillante salvet...</td>\n",
       "      <td>Beverages</td>\n",
       "      <td>Waters and flavored waters</td>\n",
       "    </tr>\n",
       "  </tbody>\n",
       "</table>\n",
       "<p>1000 rows × 4 columns</p>\n",
       "</div>"
      ],
      "text/plain": [
       "           barcode                                         clean_text  \\\n",
       "0    3199660476748  ne eleve abattu en bretagne les eleveurs de br...   \n",
       "1    3199660219192  ker chant  local decoupes de poulet conditionn...   \n",
       "2    3199660219192  cuisdej plt sat kerchant fx  origine france vo...   \n",
       "3    3199660747848  ker chant  logal decoupes de poulet cooduogne ...   \n",
       "4    3196203800091  preparation deshydratee aromatisee et coloree ...   \n",
       "..             ...                                                ...   \n",
       "995  3068320115160  mineralisation ngat en mgl calcium  magnesium ...   \n",
       "996  3068320115160  pauvre en sodum a vetat mineralisation aracter...   \n",
       "997  3068320115160  pau mineralisation aracteristique en  n ml cal...   \n",
       "998  3068320115160  finement ent petil la a veta eine g ave aturel...   \n",
       "999  3068320115160  pauvre sodium lo gl finement petillante salvet...   \n",
       "\n",
       "      pnns_groups_1               pnns_groups_2  \n",
       "0    Fish Meat Eggs                        Meat  \n",
       "1    Fish Meat Eggs                        Meat  \n",
       "2    Fish Meat Eggs                        Meat  \n",
       "3    Fish Meat Eggs                        Meat  \n",
       "4     Sugary snacks                      Sweets  \n",
       "..              ...                         ...  \n",
       "995       Beverages  Waters and flavored waters  \n",
       "996       Beverages  Waters and flavored waters  \n",
       "997       Beverages  Waters and flavored waters  \n",
       "998       Beverages  Waters and flavored waters  \n",
       "999       Beverages  Waters and flavored waters  \n",
       "\n",
       "[1000 rows x 4 columns]"
      ]
     },
     "execution_count": 19,
     "metadata": {},
     "output_type": "execute_result"
    }
   ],
   "source": [
    "data.get_data_from_text()"
   ]
  },
  {
   "cell_type": "code",
   "execution_count": 77,
   "id": "incoming-safety",
   "metadata": {},
   "outputs": [
    {
     "data": {
      "text/plain": [
       "'our sucre pour barbe a papa parfum framboise msation deshydratee aromatisee et coloree ants sucre  dextrose ardme gluten coloant  antagglomerant dioxy e de silicium inanel traces de ouf sofe aat fruits a coque g pour  g de produit deshydrate   o e kcal naiut t etique kj bupds s satures  e suktes  asg o g ref pu lngrang ne s '"
      ]
     },
     "execution_count": 77,
     "metadata": {},
     "output_type": "execute_result"
    }
   ],
   "source": [
    "encoders.CustomPreprocessor.remove_accents(data['clean_text'][10])"
   ]
  },
  {
   "cell_type": "code",
   "execution_count": 78,
   "id": "damaged-gnome",
   "metadata": {},
   "outputs": [
    {
     "data": {
      "text/plain": [
       "'our sucre pour barbe a papa parfum framboise msation déshydratee aromatisée et colorée ants sucre  dextrose arme gluten collant  antagglomerant dioxy e de silicium inanel traces de ouf soie ait fruits a coque g pour  g de produit déshydrate   o e cal nait t tique km bupds s sutures  e suites  as o g ref pu lngrang ne s '"
      ]
     },
     "execution_count": 78,
     "metadata": {},
     "output_type": "execute_result"
    }
   ],
   "source": [
    "encoders.CustomPreprocessor.corrected(data['clean_text'][10])"
   ]
  },
  {
   "cell_type": "code",
   "execution_count": 79,
   "id": "aggressive-ambassador",
   "metadata": {},
   "outputs": [
    {
     "data": {
      "text/plain": [
       "'our sucre pour barbe a papa parfum framboise msation deshydratee aromatisee et coloree ants sucre dextrose ardme gluten coloant antagglomerant dioxy e de silicium inanel traces de ouf sofe aat fruits a coque g pour g de produit deshydrate o e kcal naiut t etique kj bupds s satures e suktes asg o g ref pu lngrang ne s '"
      ]
     },
     "execution_count": 79,
     "metadata": {},
     "output_type": "execute_result"
    }
   ],
   "source": [
    "encoders.CustomPreprocessor.remove_punc(data['clean_text'][10])"
   ]
  },
  {
   "cell_type": "code",
   "execution_count": 25,
   "id": "posted-thunder",
   "metadata": {
    "ExecuteTime": {
     "end_time": "2021-03-12T13:45:09.099211Z",
     "start_time": "2021-03-12T13:45:09.071572Z"
    }
   },
   "outputs": [
    {
     "data": {
      "text/plain": [
       "<function OpenFoodFactsCategorizer.trainer.Trainer.train_model(self, X_train, y_train)>"
      ]
     },
     "execution_count": 25,
     "metadata": {},
     "output_type": "execute_result"
    }
   ],
   "source": [
    "trainer.Trainer.train_model"
   ]
  },
  {
   "cell_type": "code",
   "execution_count": 26,
   "id": "artificial-recipe",
   "metadata": {
    "ExecuteTime": {
     "end_time": "2021-03-12T13:45:23.229772Z",
     "start_time": "2021-03-12T13:45:23.202283Z"
    },
    "scrolled": true
   },
   "outputs": [],
   "source": [
    "pipeline = trainer.Trainer.create_pipeline"
   ]
  },
  {
   "cell_type": "code",
   "execution_count": 29,
   "id": "internal-spirituality",
   "metadata": {
    "ExecuteTime": {
     "end_time": "2021-03-12T16:14:42.896625Z",
     "start_time": "2021-03-12T16:14:42.868743Z"
    }
   },
   "outputs": [
    {
     "data": {
      "text/plain": [
       "<function OpenFoodFactsCategorizer.trainer.Trainer.create_pipeline(self)>"
      ]
     },
     "execution_count": 29,
     "metadata": {},
     "output_type": "execute_result"
    }
   ],
   "source": [
    "from sklearn import set_config; set_config(display='diagram')\n",
    "pipeline"
   ]
  },
  {
   "cell_type": "code",
   "execution_count": 23,
   "id": "split-performance",
   "metadata": {
    "ExecuteTime": {
     "end_time": "2021-03-12T13:33:43.544180Z",
     "start_time": "2021-03-12T13:33:43.484462Z"
    },
    "scrolled": true
   },
   "outputs": [
    {
     "data": {
      "text/plain": [
       "<OpenFoodFactsCategorizer.trainer.Trainer at 0x12dccf970>"
      ]
     },
     "execution_count": 23,
     "metadata": {},
     "output_type": "execute_result"
    }
   ],
   "source": [
    "trainer.Trainer()"
   ]
  },
  {
   "cell_type": "code",
   "execution_count": 22,
   "id": "revolutionary-chapel",
   "metadata": {
    "ExecuteTime": {
     "end_time": "2021-03-12T13:33:25.517195Z",
     "start_time": "2021-03-12T13:33:25.489007Z"
    }
   },
   "outputs": [
    {
     "data": {
      "text/plain": [
       "<OpenFoodFactsCategorizer.trainer.Trainer at 0x12db8fca0>"
      ]
     },
     "execution_count": 22,
     "metadata": {},
     "output_type": "execute_result"
    }
   ],
   "source": [
    "model"
   ]
  },
  {
   "cell_type": "code",
   "execution_count": null,
   "id": "inside-ownership",
   "metadata": {},
   "outputs": [],
   "source": []
  }
 ],
 "metadata": {
  "kernelspec": {
   "display_name": "Python 3",
   "language": "python",
   "name": "python3"
  },
  "language_info": {
   "codemirror_mode": {
    "name": "ipython",
    "version": 3
   },
   "file_extension": ".py",
   "mimetype": "text/x-python",
   "name": "python",
   "nbconvert_exporter": "python",
   "pygments_lexer": "ipython3",
   "version": "3.8.6"
  },
  "latex_envs": {
   "LaTeX_envs_menu_present": true,
   "autoclose": false,
   "autocomplete": true,
   "bibliofile": "biblio.bib",
   "cite_by": "apalike",
   "current_citInitial": 1,
   "eqLabelWithNumbers": true,
   "eqNumInitial": 1,
   "hotkeys": {
    "equation": "Ctrl-E",
    "itemize": "Ctrl-I"
   },
   "labels_anchors": false,
   "latex_user_defs": false,
   "report_style_numbering": false,
   "user_envs_cfg": false
  },
  "toc": {
   "base_numbering": 1,
   "nav_menu": {},
   "number_sections": true,
   "sideBar": true,
   "skip_h1_title": false,
   "title_cell": "Table of Contents",
   "title_sidebar": "Contents",
   "toc_cell": false,
   "toc_position": {},
   "toc_section_display": true,
   "toc_window_display": false
  },
  "varInspector": {
   "cols": {
    "lenName": 16,
    "lenType": 16,
    "lenVar": 40
   },
   "kernels_config": {
    "python": {
     "delete_cmd_postfix": "",
     "delete_cmd_prefix": "del ",
     "library": "var_list.py",
     "varRefreshCmd": "print(var_dic_list())"
    },
    "r": {
     "delete_cmd_postfix": ") ",
     "delete_cmd_prefix": "rm(",
     "library": "var_list.r",
     "varRefreshCmd": "cat(var_dic_list()) "
    }
   },
   "types_to_exclude": [
    "module",
    "function",
    "builtin_function_or_method",
    "instance",
    "_Feature"
   ],
   "window_display": false
  }
 },
 "nbformat": 4,
 "nbformat_minor": 5
}
