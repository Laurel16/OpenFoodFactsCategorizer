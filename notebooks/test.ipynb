{
 "cells": [
  {
   "cell_type": "code",
   "execution_count": 11,
   "id": "color-truck",
   "metadata": {
    "ExecuteTime": {
     "end_time": "2021-03-12T16:51:08.520136Z",
     "start_time": "2021-03-12T16:51:08.461885Z"
    }
   },
   "outputs": [
    {
     "name": "stdout",
     "output_type": "stream",
     "text": [
      "The autoreload extension is already loaded. To reload it, use:\n",
      "  %reload_ext autoreload\n"
     ]
    }
   ],
   "source": [
    "%load_ext autoreload\n",
    "%autoreload 2"
   ]
  },
  {
   "cell_type": "code",
   "execution_count": 12,
   "id": "vocal-pillow",
   "metadata": {
    "ExecuteTime": {
     "end_time": "2021-03-12T16:51:10.582538Z",
     "start_time": "2021-03-12T16:51:10.555756Z"
    }
   },
   "outputs": [],
   "source": [
    "import pandas as pd\n",
    "import numpy as np\n",
    "import sys\n",
    "import os\n",
    "from sklearn.model_selection import train_test_split"
   ]
  },
  {
   "cell_type": "code",
   "execution_count": 13,
   "id": "designing-shakespeare",
   "metadata": {
    "ExecuteTime": {
     "end_time": "2021-03-12T13:22:39.857194Z",
     "start_time": "2021-03-12T13:22:39.826823Z"
    }
   },
   "outputs": [
    {
     "data": {
      "text/plain": [
       "'test.ipynb'"
      ]
     },
     "execution_count": 13,
     "metadata": {},
     "output_type": "execute_result"
    }
   ],
   "source": [
    "path = os.path.basename('test.ipynb')\n",
    "path"
   ]
  },
  {
   "cell_type": "code",
   "execution_count": 14,
   "id": "qualified-privilege",
   "metadata": {
    "ExecuteTime": {
     "end_time": "2021-03-12T13:22:41.708388Z",
     "start_time": "2021-03-12T13:22:41.684027Z"
    }
   },
   "outputs": [
    {
     "data": {
      "text/plain": [
       "'/Users/laureleter/code/Laurel16/OpenFoodFactsCategorizer'"
      ]
     },
     "execution_count": 14,
     "metadata": {},
     "output_type": "execute_result"
    }
   ],
   "source": [
    "os.path.dirname(os.path.dirname(os.path.abspath('__file__')))"
   ]
  },
  {
   "cell_type": "code",
   "execution_count": 15,
   "id": "proud-vienna",
   "metadata": {},
   "outputs": [
    {
     "name": "stdout",
     "output_type": "stream",
     "text": [
      "Requirement already satisfied: nltk in /Users/laureleter/.pyenv/versions/3.8.6/envs/OpenFoodFacts/lib/python3.8/site-packages (3.5)\n",
      "Requirement already satisfied: joblib in /Users/laureleter/.pyenv/versions/3.8.6/envs/OpenFoodFacts/lib/python3.8/site-packages (from nltk) (1.0.1)\n",
      "Requirement already satisfied: tqdm in /Users/laureleter/.pyenv/versions/3.8.6/envs/OpenFoodFacts/lib/python3.8/site-packages (from nltk) (4.57.0)\n",
      "Requirement already satisfied: regex in /Users/laureleter/.pyenv/versions/3.8.6/envs/OpenFoodFacts/lib/python3.8/site-packages (from nltk) (2020.11.13)\n",
      "Requirement already satisfied: click in /Users/laureleter/.pyenv/versions/3.8.6/envs/OpenFoodFacts/lib/python3.8/site-packages (from nltk) (7.1.2)\n"
     ]
    }
   ],
   "source": [
    "!pip install nltk"
   ]
  },
  {
   "cell_type": "code",
   "execution_count": 16,
   "id": "occupational-uncle",
   "metadata": {
    "ExecuteTime": {
     "end_time": "2021-03-12T13:22:35.069918Z",
     "start_time": "2021-03-12T13:22:19.687834Z"
    }
   },
   "outputs": [
    {
     "name": "stdout",
     "output_type": "stream",
     "text": [
      "Requirement already satisfied: pyspellchecker in /Users/laureleter/.pyenv/versions/3.8.6/envs/OpenFoodFacts/lib/python3.8/site-packages (0.6.1)\r\n"
     ]
    }
   ],
   "source": [
    "!pip install pyspellchecker"
   ]
  },
  {
   "cell_type": "code",
   "execution_count": 17,
   "id": "alternative-thailand",
   "metadata": {
    "ExecuteTime": {
     "end_time": "2021-03-12T16:51:14.006027Z",
     "start_time": "2021-03-12T16:51:13.978694Z"
    },
    "scrolled": false
   },
   "outputs": [],
   "source": [
    "nb_dir = os.path.dirname(os.path.dirname(os.path.abspath('__file__')))\n",
    "#if module_path not in sys.path:\n",
    "    #sys.path.append(module_path+\"\\\\OpenFoodFactsCategorizer\")\n",
    "if nb_dir not in sys.path:\n",
    "    sys.path.append(nb_dir)\n",
    "from OpenFoodFactsCategorizer import data, encoders, trainer\n",
    "\n",
    "#module_path"
   ]
  },
  {
   "cell_type": "code",
   "execution_count": 18,
   "id": "amazing-nature",
   "metadata": {},
   "outputs": [],
   "source": [
    "df = data.get_data()"
   ]
  },
  {
   "cell_type": "code",
   "execution_count": 19,
   "id": "comprehensive-signature",
   "metadata": {
    "ExecuteTime": {
     "end_time": "2021-03-12T13:32:17.804018Z",
     "start_time": "2021-03-12T13:32:17.744053Z"
    },
    "scrolled": true
   },
   "outputs": [
    {
     "data": {
      "text/plain": [
       "(731    mineralisation totale mglitre aicium ca  magne...\n",
       " 716                                stos e badoit source \n",
       " 640    cine farine среаиtre t source de fibres et de ...\n",
       " 804    eau minerale naturelle calciuma chinat  calciu...\n",
       " 737             s o u r c e badoit ntensementpetillante \n",
       "                              ...                        \n",
       " 767    mineralisation totalesamenstelling mg calcium ...\n",
       " 72     poids net a lemballage sevre  belle  g nou ani...\n",
       " 908        sanent galene bado urce mies finement petill \n",
       " 235    le savoirfaire et le souci de la qualite font ...\n",
       " 37     ation d ine pro echire dep uis     beurre de b...\n",
       " Name: clean_text, Length: 700, dtype: object,\n",
       " 507    ma pate a gaufres preparation pour pate a gauf...\n",
       " 818    a consemmer de date indiquee conserver a labri...\n",
       " 452    jus de pomme petillant ingredients jus de pomm...\n",
       " 368    raou tion veritable macarons patissiers pur am...\n",
       " 242    sirop sport lenergie au cceur du fruit citror ...\n",
       "                              ...                        \n",
       " 459      l  carottes rapees carottes rapees assaisonn...\n",
       " 415    raoul moutarde autrefois arancienne dexma  cha...\n",
       " 61     sevre belle baratte du c remier beurre dantan ...\n",
       " 347    raou olives vertes rendezvous des gou denoyaut...\n",
       " 349    le rendeg vous des gaurmts confiture euite en ...\n",
       " Name: clean_text, Length: 300, dtype: object,\n",
       " 731    Waters and flavored waters\n",
       " 716    Waters and flavored waters\n",
       " 640                       Cereals\n",
       " 804    Waters and flavored waters\n",
       " 737    Waters and flavored waters\n",
       "                   ...            \n",
       " 767    Waters and flavored waters\n",
       " 72                         Cheese\n",
       " 908    Waters and flavored waters\n",
       " 235           Sweetened beverages\n",
       " 37                           Fats\n",
       " Name: pnns_groups_2, Length: 700, dtype: object,\n",
       " 507            Biscuits and cakes\n",
       " 818    Waters and flavored waters\n",
       " 452                  Fruit juices\n",
       " 368            Biscuits and cakes\n",
       " 242           Sweetened beverages\n",
       "                   ...            \n",
       " 459                One-dish meals\n",
       " 415          Dressings and sauces\n",
       " 61                           Fats\n",
       " 347      Salty and fatty products\n",
       " 349                        Sweets\n",
       " Name: pnns_groups_2, Length: 300, dtype: object)"
      ]
     },
     "execution_count": 19,
     "metadata": {},
     "output_type": "execute_result"
    }
   ],
   "source": [
    "data.get_data_from_text()"
   ]
  },
  {
   "cell_type": "code",
   "execution_count": 20,
   "id": "incoming-safety",
   "metadata": {},
   "outputs": [
    {
     "data": {
      "text/plain": [
       "'our sucre pour barbe a papa parfum framboise msation deshydratee aromatisee et coloree ants sucre dextrose ardme gluten coloant antagglomerant dioxy e de silicium inanel traces de ouf sofe aat fruits a coque g pour g de produit deshydrate o e kcal naiut t etique kj bupds s satures e suktes asg o g ref pu lngrang ne s'"
      ]
     },
     "execution_count": 20,
     "metadata": {},
     "output_type": "execute_result"
    }
   ],
   "source": [
    "encoders.CustomPreprocessor.clean_ocr_text(df['clean_text'][10])"
   ]
  },
  {
   "cell_type": "code",
   "execution_count": 21,
   "id": "damaged-gnome",
   "metadata": {},
   "outputs": [
    {
     "data": {
      "text/plain": [
       "'our sucre pour barbe a papa parfum framboise msation déshydratee aromatisée et colorée ants sucre  dextrose arme gluten collant  antagglomerant dioxy e de silicium inanel traces de ouf soie ait fruits a coque g pour  g de produit déshydrate   o e cal nait t tique km bupds s sutures  e suites  as o g ref pu lngrang ne s '"
      ]
     },
     "execution_count": 21,
     "metadata": {},
     "output_type": "execute_result"
    }
   ],
   "source": [
    "encoders.CustomPreprocessor.corrected(df['clean_text'][10])"
   ]
  },
  {
   "cell_type": "code",
   "execution_count": 22,
   "id": "aggressive-ambassador",
   "metadata": {
    "scrolled": true
   },
   "outputs": [
    {
     "data": {
      "text/plain": [
       "'our sucre pour barbe a papa parfum framboise msation deshydratee aromatisee et coloree ants sucre dextrose ardme gluten coloant antagglomerant dioxy e de silicium inanel traces de ouf sofe aat fruits a coque g pour g de produit deshydrate o e kcal naiut t etique kj bupds s satures e suktes asg o g ref pu lngrang ne s '"
      ]
     },
     "execution_count": 22,
     "metadata": {},
     "output_type": "execute_result"
    }
   ],
   "source": [
    "encoders.CustomPreprocessor.remove_punc(df['clean_text'][10])"
   ]
  },
  {
   "cell_type": "code",
   "execution_count": 23,
   "id": "personalized-couple",
   "metadata": {},
   "outputs": [
    {
     "data": {
      "text/plain": [
       "'our sucre pour barbe a papa parfum framboise msation deshydratee aromatisee et coloree ants sucre dextrose ardme gluten coloant antagglomerant dioxy e de silicium inanel traces de ouf sofe aat fruits a coque g pour g de produit deshydrate o e kcal naiut t etique kj bupds s satures e suktes asg o g ref pu lngrang ne s'"
      ]
     },
     "execution_count": 23,
     "metadata": {},
     "output_type": "execute_result"
    }
   ],
   "source": [
    "text = df['clean_text'][10]\n",
    "encoders.CustomPreprocessor.clean_ocr_text(text, spellcheck=None)"
   ]
  },
  {
   "cell_type": "code",
   "execution_count": 24,
   "id": "posted-thunder",
   "metadata": {
    "ExecuteTime": {
     "end_time": "2021-03-12T13:45:09.099211Z",
     "start_time": "2021-03-12T13:45:09.071572Z"
    }
   },
   "outputs": [
    {
     "data": {
      "text/plain": [
       "<function OpenFoodFactsCategorizer.trainer.Trainer.train_model(self)>"
      ]
     },
     "execution_count": 24,
     "metadata": {},
     "output_type": "execute_result"
    }
   ],
   "source": [
    "trainer.Trainer.train_model"
   ]
  },
  {
   "cell_type": "code",
   "execution_count": 25,
   "id": "artificial-recipe",
   "metadata": {
    "ExecuteTime": {
     "end_time": "2021-03-12T16:46:57.148455Z",
     "start_time": "2021-03-12T16:46:57.117602Z"
    },
    "scrolled": true
   },
   "outputs": [
    {
     "data": {
      "text/plain": [
       "<function OpenFoodFactsCategorizer.trainer.Trainer.create_pipeline(self)>"
      ]
     },
     "execution_count": 25,
     "metadata": {},
     "output_type": "execute_result"
    }
   ],
   "source": [
    "pipeline = trainer.Trainer.create_pipeline\n",
    "pipeline"
   ]
  },
  {
   "cell_type": "code",
   "execution_count": null,
   "id": "inside-ownership",
   "metadata": {
    "ExecuteTime": {
     "end_time": "2021-03-12T17:10:08.206596Z",
     "start_time": "2021-03-12T17:10:08.162382Z"
    }
   },
   "outputs": [],
   "source": [
    "from sklearn.pipeline import Pipeline\n",
    "from OpenFoodFactsCategorizer.encoders import CustomPreprocessor\n",
    "from sklearn.linear_model import RidgeClassifier\n",
    "from sklearn.feature_extraction.text import TfidfVectorizer\n",
    "pipeline = Pipeline([\n",
    "    #(\"custom_preprocessor\", CustomPreprocessor()),\n",
    "    (\"tfidf\", TfidfVectorizer(ngram_range=(2, 2))),\n",
    "    (\"ridge\", RidgeClassifier())\n",
    "])\n",
    "\n",
    "pipeline"
   ]
  },
  {
   "cell_type": "code",
   "execution_count": null,
   "id": "banner-harvey",
   "metadata": {
    "ExecuteTime": {
     "end_time": "2021-03-12T17:10:09.385081Z",
     "start_time": "2021-03-12T17:10:09.151363Z"
    }
   },
   "outputs": [],
   "source": [
    "pipeline.fit(X_train,y_train)"
   ]
  },
  {
   "cell_type": "code",
   "execution_count": null,
   "id": "upset-wonder",
   "metadata": {
    "ExecuteTime": {
     "end_time": "2021-03-12T16:51:17.185224Z",
     "start_time": "2021-03-12T16:51:17.115729Z"
    }
   },
   "outputs": [],
   "source": [
    "df = data.get_data_from_text(path='../raw_data/ocr_labeled_1K.csv')\n",
    "print(df.head())\n",
    "X = df['clean_text']\n",
    "y = df['pnns_groups_2']\n",
    "X_train, X_test, y_train, y_test = train_test_split(X, y, test_size=0.3)\n",
    "print(y_train.head())\n",
    "trainer = trainer.Trainer(X=X_train.squeeze(), y=y_train)\n",
    "trainer.train_model()"
   ]
  },
  {
   "cell_type": "code",
   "execution_count": null,
   "id": "central-cotton",
   "metadata": {},
   "outputs": [],
   "source": []
  }
 ],
 "metadata": {
  "kernelspec": {
   "display_name": "Python 3",
   "language": "python",
   "name": "python3"
  },
  "language_info": {
   "codemirror_mode": {
    "name": "ipython",
    "version": 3
   },
   "file_extension": ".py",
   "mimetype": "text/x-python",
   "name": "python",
   "nbconvert_exporter": "python",
   "pygments_lexer": "ipython3",
   "version": "3.8.6"
  },
  "latex_envs": {
   "LaTeX_envs_menu_present": true,
   "autoclose": false,
   "autocomplete": true,
   "bibliofile": "biblio.bib",
   "cite_by": "apalike",
   "current_citInitial": 1,
   "eqLabelWithNumbers": true,
   "eqNumInitial": 1,
   "hotkeys": {
    "equation": "Ctrl-E",
    "itemize": "Ctrl-I"
   },
   "labels_anchors": false,
   "latex_user_defs": false,
   "report_style_numbering": false,
   "user_envs_cfg": false
  },
  "toc": {
   "base_numbering": 1,
   "nav_menu": {},
   "number_sections": true,
   "sideBar": true,
   "skip_h1_title": false,
   "title_cell": "Table of Contents",
   "title_sidebar": "Contents",
   "toc_cell": false,
   "toc_position": {},
   "toc_section_display": true,
   "toc_window_display": false
  },
  "varInspector": {
   "cols": {
    "lenName": 16,
    "lenType": 16,
    "lenVar": 40
   },
   "kernels_config": {
    "python": {
     "delete_cmd_postfix": "",
     "delete_cmd_prefix": "del ",
     "library": "var_list.py",
     "varRefreshCmd": "print(var_dic_list())"
    },
    "r": {
     "delete_cmd_postfix": ") ",
     "delete_cmd_prefix": "rm(",
     "library": "var_list.r",
     "varRefreshCmd": "cat(var_dic_list()) "
    }
   },
   "types_to_exclude": [
    "module",
    "function",
    "builtin_function_or_method",
    "instance",
    "_Feature"
   ],
   "window_display": false
  }
 },
 "nbformat": 4,
 "nbformat_minor": 5
}
